{
  "nbformat": 4,
  "nbformat_minor": 0,
  "metadata": {
    "colab": {
      "name": "ZinGAN.ipynb",
      "provenance": [],
      "collapsed_sections": [],
      "machine_shape": "hm"
    },
    "kernelspec": {
      "name": "python3",
      "display_name": "Python 3"
    },
    "language_info": {
      "name": "python"
    },
    "accelerator": "GPU"
  },
  "cells": [
    {
      "cell_type": "markdown",
      "source": [
        "# Attempt 1"
      ],
      "metadata": {
        "id": "UQOjVctsn--g"
      }
    },
    {
      "cell_type": "code",
      "source": [
        "!pip install -U -q PyDrive\n",
        "!pip install rdkit-pypi\n",
        "\n",
        "import keras\n",
        "import math\n",
        "import os\n",
        "import time\n",
        "import random\n",
        "import PIL\n",
        "import glob\n",
        "import imageio\n",
        "import numpy as np\n",
        "import pandas as pd\n",
        "import tensorflow as tf\n",
        "import matplotlib.pyplot as plt\n",
        "from IPython import display\n",
        "from tensorflow.keras import layers\n",
        "from functools import partial\n",
        "from sklearn.model_selection import KFold\n",
        "from keras.datasets import mnist\n",
        "from sklearn.model_selection import train_test_split\n",
        "from pydrive.auth import GoogleAuth\n",
        "from pydrive.drive import GoogleDrive\n",
        "from google.colab import auth\n",
        "from oauth2client.client import GoogleCredentials\n",
        "from rdkit import Chem\n",
        "from rdkit.Chem.Lipinski import NumAromaticRings\n",
        "from rdkit.Chem import Draw\n",
        "from PIL import Image, ImageOps"
      ],
      "metadata": {
        "id": "Qjlreh5MV0ix",
        "colab": {
          "base_uri": "https://localhost:8080/"
        },
        "outputId": "202759c0-13bd-4942-e180-b541ce02bafd"
      },
      "execution_count": 1,
      "outputs": [
        {
          "output_type": "stream",
          "name": "stdout",
          "text": [
            "Requirement already satisfied: rdkit-pypi in /usr/local/lib/python3.7/dist-packages (2021.9.4)\n",
            "Requirement already satisfied: Pillow in /usr/local/lib/python3.7/dist-packages (from rdkit-pypi) (7.1.2)\n",
            "Requirement already satisfied: numpy>=1.19 in /usr/local/lib/python3.7/dist-packages (from rdkit-pypi) (1.19.5)\n"
          ]
        }
      ]
    },
    {
      "cell_type": "code",
      "source": [
        "auth.authenticate_user()\n",
        "gauth = GoogleAuth()\n",
        "gauth.credentials = GoogleCredentials.get_application_default()\n",
        "drive = GoogleDrive(gauth)"
      ],
      "metadata": {
        "id": "s3oyJumfUb1J"
      },
      "execution_count": 2,
      "outputs": []
    },
    {
      "cell_type": "code",
      "source": [
        "# Here I have used 1.7 GB worth of Smiles data\n",
        "\n",
        "link = 'https://drive.google.com/file/d/1dYQV-fLjF1Yzf678I3EOs2McSyzrHgCc/view?usp=sharing'\n",
        "id = link.split(\"/\")[-2]\n",
        "  \n",
        "downloaded = drive.CreateFile({'id':id}) \n",
        "downloaded.GetContentFile('zinGAN.csv')  \n",
        "  \n",
        "df = pd.read_csv('zinGAN.csv')"
      ],
      "metadata": {
        "id": "wQ55KzQH0Z8C"
      },
      "execution_count": 3,
      "outputs": []
    },
    {
      "cell_type": "code",
      "source": [
        "df2 = df.head(1000)"
      ],
      "metadata": {
        "id": "39H1bkZEVGOo"
      },
      "execution_count": 4,
      "outputs": []
    },
    {
      "cell_type": "code",
      "source": [
        "mol = []\n",
        "for i in df2['smiles']:\n",
        "    mol.append(Chem.MolFromSmiles(i))"
      ],
      "metadata": {
        "id": "NaikSSt5VL0-"
      },
      "execution_count": 5,
      "outputs": []
    },
    {
      "cell_type": "code",
      "source": [
        "# Resizing to optimise model\n",
        "\n",
        "pixel = 80\n",
        "\n",
        "arr2 = []\n",
        "for m in mol:\n",
        "    img = Draw.MolToFile(m,'image.png')\n",
        "    foo = Image.open(\"image.png\")\n",
        "    foo = foo.resize((pixel, pixel),Image.ANTIALIAS)\n",
        "    # foo2.save(\"image_small.png\", optimize=True, quality=95)\n",
        "    foo = ImageOps.grayscale(foo)\n",
        "    pix = foo.load()\n",
        "    arr = []\n",
        "    for i in range(pixel):\n",
        "        for j in range(pixel):\n",
        "            arr.append(pix[i,j])\n",
        "    arr2.append(arr)\n",
        "    \n",
        "trainX = np.array(arr2)"
      ],
      "metadata": {
        "id": "LllqpXju__G8"
      },
      "execution_count": 6,
      "outputs": []
    },
    {
      "cell_type": "code",
      "source": [
        "trainX[1].shape"
      ],
      "metadata": {
        "colab": {
          "base_uri": "https://localhost:8080/"
        },
        "id": "a7AcCBr_5Hm1",
        "outputId": "1706f900-3a9e-4367-ea73-366424f8c9fd"
      },
      "execution_count": 7,
      "outputs": [
        {
          "output_type": "execute_result",
          "data": {
            "text/plain": [
              "(6400,)"
            ]
          },
          "metadata": {},
          "execution_count": 7
        }
      ]
    },
    {
      "cell_type": "code",
      "source": [
        "trainX = trainX.reshape(trainX.shape[0], pixel, pixel).astype('float32')\n",
        "trainX = (trainX - 127.5) / 127.5\n",
        "plt.imshow(trainX[176], cmap='gray')"
      ],
      "metadata": {
        "colab": {
          "base_uri": "https://localhost:8080/",
          "height": 285
        },
        "id": "Rcc8-6tQ3j0t",
        "outputId": "cea3b952-7164-47c9-dd5b-cbda8c201cd3"
      },
      "execution_count": 8,
      "outputs": [
        {
          "output_type": "execute_result",
          "data": {
            "text/plain": [
              "<matplotlib.image.AxesImage at 0x7fa4d4e3c8d0>"
            ]
          },
          "metadata": {},
          "execution_count": 8
        },
        {
          "output_type": "display_data",
          "data": {
            "image/png": "[encoded data removed]",
            "text/plain": [
              "<Figure size 432x288 with 1 Axes>"
            ]
          },
          "metadata": {
            "needs_background": "light"
          }
        }
      ]
    },
    {
      "cell_type": "code",
      "source": [
        "# Here I try to use the same model as \n",
        "\n",
        "trainX = trainX.reshape(trainX.shape[0], trainX.shape[1]*trainX.shape[2])\n",
        "trainX = trainX.reshape(trainX.shape[0], pixel, pixel, 1)"
      ],
      "metadata": {
        "id": "sUqV_6_t8lBY"
      },
      "execution_count": 9,
      "outputs": []
    },
    {
      "cell_type": "code",
      "source": [
        "def generator_model():\n",
        "    model = keras.models.Sequential()\n",
        "    model.add(layers.Dense((pixel//4)*(pixel//4)*256, use_bias=False, input_shape=(100,)))\n",
        "    model.add(layers.BatchNormalization())\n",
        "    model.add(layers.LeakyReLU())\n",
        "    model.add(layers.Reshape(((pixel//4),(pixel//4),256)))\n",
        "    assert model.output_shape == (None, (pixel//4), (pixel//4), 256) \n",
        "\n",
        "    model.add(layers.Conv2DTranspose(128, (5, 5), strides=(1, 1), padding='same', use_bias=False))\n",
        "    assert model.output_shape == (None, (pixel//4), (pixel//4), 128)\n",
        "    model.add(layers.BatchNormalization())\n",
        "    model.add(layers.LeakyReLU())\n",
        "\n",
        "    model.add(layers.Conv2DTranspose(64, (5, 5), strides=(2, 2), padding='same', use_bias=False))\n",
        "    assert model.output_shape == (None, (pixel//2), (pixel//2), 64)\n",
        "    model.add(layers.BatchNormalization())\n",
        "    model.add(layers. LeakyReLU())\n",
        "\n",
        "    model.add(layers.Conv2DTranspose(1, (5, 5), strides=(2, 2), padding='same', use_bias=False, activation='tanh'))\n",
        "    assert model.output_shape == (None, pixel, pixel, 1)\n",
        "    \n",
        "    return model"
      ],
      "metadata": {
        "id": "5NFjBl4W87x2"
      },
      "execution_count": 10,
      "outputs": []
    },
    {
      "cell_type": "code",
      "source": [
        "generator = generator_model()\n",
        "noise = tf.random.normal([1, 100])\n",
        "generated_image = generator(noise, training=False)\n",
        "plt.imshow(generated_image[0, :, :, 0], cmap='gray')"
      ],
      "metadata": {
        "colab": {
          "base_uri": "https://localhost:8080/",
          "height": 285
        },
        "id": "Qy1dmn3S9LKP",
        "outputId": "bece2593-4607-4e09-b87c-3f57eb9132ce"
      },
      "execution_count": 11,
      "outputs": [
        {
          "output_type": "execute_result",
          "data": {
            "text/plain": [
              "<matplotlib.image.AxesImage at 0x7fa4d06aed50>"
            ]
          },
          "metadata": {},
          "execution_count": 11
        },
        {
          "output_type": "display_data",
          "data": {
            "image/png": "[encoded data removed]",
            "text/plain": [
              "<Figure size 432x288 with 1 Axes>"
            ]
          },
          "metadata": {
            "needs_background": "light"
          }
        }
      ]
    },
    {
      "cell_type": "code",
      "source": [
        "def discriminator_model():\n",
        "    model = tf.keras.Sequential()\n",
        "    model.add(layers.Conv2D(64, (5, 5), strides=(2, 2), padding='same', input_shape=[pixel, pixel, 1]))\n",
        "    model.add(layers.LeakyReLU())\n",
        "    model.add(layers.Dropout(0.3))\n",
        "    model.add(layers.Conv2D(128, (5, 5), strides=(2, 2), padding='same'))\n",
        "    model.add(layers.LeakyReLU())\n",
        "    model.add(layers.Dropout(0.3))\n",
        "    model.add(layers.Flatten())\n",
        "    model.add(layers.Dense(1))  # 1 output, prob of 5 vs not 5\n",
        "    return model"
      ],
      "metadata": {
        "id": "-RJXinZz9PWI"
      },
      "execution_count": 12,
      "outputs": []
    },
    {
      "cell_type": "code",
      "source": [
        "discriminator = discriminator_model()\n",
        "cross_entropy = tf.keras.losses.BinaryCrossentropy(from_logits=True)"
      ],
      "metadata": {
        "id": "vRdfG-QC9SzC"
      },
      "execution_count": 13,
      "outputs": []
    },
    {
      "cell_type": "code",
      "source": [
        "def discriminator_loss(real_output, fake_output):\n",
        "    real_loss = cross_entropy(tf.ones_like(real_output), real_output)\n",
        "    fake_loss = cross_entropy(tf.zeros_like(fake_output), fake_output)\n",
        "    total_loss = real_loss + fake_loss\n",
        "    return total_loss"
      ],
      "metadata": {
        "id": "FODHjCCJ9Uan"
      },
      "execution_count": 14,
      "outputs": []
    },
    {
      "cell_type": "code",
      "source": [
        "def generator_loss(fake_output):\n",
        "    return cross_entropy(tf.ones_like(fake_output), fake_output)"
      ],
      "metadata": {
        "id": "H9AUm5CL9WMO"
      },
      "execution_count": 15,
      "outputs": []
    },
    {
      "cell_type": "code",
      "source": [
        "generator_optimizer = tf.keras.optimizers.Adam(1e-4)\n",
        "discriminator_optimizer = tf.keras.optimizers.Adam(1e-4)"
      ],
      "metadata": {
        "id": "UAJD2RjH9Xu3"
      },
      "execution_count": 16,
      "outputs": []
    },
    {
      "cell_type": "code",
      "source": [
        "BUFFER_SIZE = 60000\n",
        "BATCH_SIZE = 64\n",
        "EPOCHS = 1000\n",
        "noise_dim = 100\n",
        "num_examples_to_generate = 16\n",
        "seed = tf.random.normal([num_examples_to_generate, noise_dim])"
      ],
      "metadata": {
        "id": "sj4OBIA99ZV_"
      },
      "execution_count": 17,
      "outputs": []
    },
    {
      "cell_type": "code",
      "source": [
        "@tf.function\n",
        "def train_step(images):\n",
        "    noise = tf.random.normal([BATCH_SIZE, noise_dim])\n",
        "    with tf.GradientTape() as gen_tape, tf.GradientTape() as disc_tape:\n",
        "        generated_images = generator(noise, training=True)\n",
        "\n",
        "        real_output = discriminator(images, training=True)\n",
        "        fake_output = discriminator(generated_images, training=True)\n",
        "\n",
        "        gen_loss = generator_loss(fake_output)\n",
        "        disc_loss = discriminator_loss(real_output, fake_output)\n",
        "\n",
        "    gradients_of_generator = gen_tape.gradient(gen_loss, generator.trainable_variables)\n",
        "    gradients_of_discriminator = disc_tape.gradient(disc_loss, discriminator.trainable_variables)\n",
        "\n",
        "    generator_optimizer.apply_gradients(zip(gradients_of_generator, generator.trainable_variables))\n",
        "    discriminator_optimizer.apply_gradients(zip(gradients_of_discriminator, discriminator.trainable_variables))"
      ],
      "metadata": {
        "id": "FonlrGGX9a26"
      },
      "execution_count": 18,
      "outputs": []
    },
    {
      "cell_type": "code",
      "source": [
        "def generate_and_save_images(model, epoch, test_input):\n",
        "    predictions = model(test_input, training=False)\n",
        "    fig = plt.figure(figsize=(4,4))\n",
        "    for i in range(predictions.shape[0]):\n",
        "        plt.subplot(4, 4, i+1)\n",
        "        plt.imshow(predictions[i, :, :, 0] * 127.5 + 127.5, cmap='gray')\n",
        "        plt.axis('off')\n",
        "    plt.savefig('image_at_epoch_{:04d}.png'.format(epoch))\n",
        "    plt.show()"
      ],
      "metadata": {
        "id": "UfyuH7lh9cjf"
      },
      "execution_count": 19,
      "outputs": []
    },
    {
      "cell_type": "code",
      "source": [
        "checkpoint_dir = './training_checkpoints'\n",
        "checkpoint_prefix = os.path.join(checkpoint_dir, \"ckpt\")\n",
        "checkpoint = tf.train.Checkpoint(generator_optimizer=generator_optimizer, discriminator_optimizer=discriminator_optimizer, generator=generator, discriminator=discriminator)"
      ],
      "metadata": {
        "id": "kvTo-kNx9eX3"
      },
      "execution_count": 20,
      "outputs": []
    },
    {
      "cell_type": "code",
      "source": [
        "def train(dataset, epochs):\n",
        "    for epoch in range(epochs):\n",
        "        start = time.time()\n",
        "        train_step(dataset)\n",
        "        display.clear_output(wait=True)\n",
        "        generate_and_save_images(generator, epoch + 1, seed)\n",
        "        if (epoch + 1) % 15 == 0:\n",
        "            checkpoint.save(file_prefix = checkpoint_prefix)\n",
        "        print('Time for epoch {} is {} sec'.format(epoch + 1, time.time() - start))\n",
        "    display.clear_output(wait=True)\n",
        "    generate_and_save_images(generator, epochs, seed)"
      ],
      "metadata": {
        "id": "9c6m2kkk9g3A"
      },
      "execution_count": 21,
      "outputs": []
    },
    {
      "cell_type": "code",
      "source": [
        "gpu_options = tf.compat.v1.GPUOptions(allow_growth=True)\n",
        "session = tf.compat.v1.InteractiveSession(config=tf.compat.v1.ConfigProto(gpu_options=gpu_options))\n",
        "\n",
        "train(trainX, EPOCHS)\n",
        "# Free abstract art"
      ],
      "metadata": {
        "colab": {
          "base_uri": "https://localhost:8080/",
          "height": 248
        },
        "id": "9PafgKDt9i_r",
        "outputId": "af8a939a-ed4b-4341-e1ac-c7b08568a67c"
      },
      "execution_count": 22,
      "outputs": [
        {
          "output_type": "display_data",
          "data": {
            "image/png": "[encoded data removed]",
            "text/plain": [
              "<Figure size 288x288 with 16 Axes>"
            ]
          },
          "metadata": {
            "needs_background": "light"
          }
        }
      ]
    },
    {
      "cell_type": "code",
      "source": [
        "from numpy.random import randn\n",
        "\n",
        "def generate_latent_points(latent_dim, n_samples):\n",
        "\tx_input = randn(latent_dim * n_samples)\n",
        "\tx_input = x_input.reshape(n_samples, latent_dim)\n",
        "\treturn x_input\n",
        "\n",
        "latent_points = generate_latent_points(100, 10)\n",
        "X = generator.predict(latent_points)\n",
        "X.shape"
      ],
      "metadata": {
        "id": "_3bhIMjf9tod",
        "colab": {
          "base_uri": "https://localhost:8080/"
        },
        "outputId": "59cb8bc7-7b41-4da1-db80-9c7ff9115b07"
      },
      "execution_count": 23,
      "outputs": [
        {
          "output_type": "execute_result",
          "data": {
            "text/plain": [
              "(10, 80, 80, 1)"
            ]
          },
          "metadata": {},
          "execution_count": 23
        }
      ]
    },
    {
      "cell_type": "code",
      "source": [
        "q = random.randint(0,10)\n",
        "plt.imshow(X[q, :, :, 0], cmap='gray')"
      ],
      "metadata": {
        "id": "89HU3xad9yIu",
        "colab": {
          "base_uri": "https://localhost:8080/",
          "height": 285
        },
        "outputId": "bb16682e-8c97-41dd-9921-051b8a77406c"
      },
      "execution_count": 24,
      "outputs": [
        {
          "output_type": "execute_result",
          "data": {
            "text/plain": [
              "<matplotlib.image.AxesImage at 0x7fa3e61a8550>"
            ]
          },
          "metadata": {},
          "execution_count": 24
        },
        {
          "output_type": "display_data",
          "data": {
            "image/png": "[encoded data removed]",
            "text/plain": [
              "<Figure size 432x288 with 1 Axes>"
            ]
          },
          "metadata": {
            "needs_background": "light"
          }
        }
      ]
    },
    {
      "cell_type": "code",
      "source": [
        "checkpoint.restore(tf.train.latest_checkpoint(checkpoint_dir))"
      ],
      "metadata": {
        "id": "dhrD6CR399jc",
        "colab": {
          "base_uri": "https://localhost:8080/"
        },
        "outputId": "881c246a-4c32-4820-d4c0-e2c2e5619379"
      },
      "execution_count": 25,
      "outputs": [
        {
          "output_type": "execute_result",
          "data": {
            "text/plain": [
              "<tensorflow.python.training.tracking.util.CheckpointLoadStatus at 0x7fa3e6293cd0>"
            ]
          },
          "metadata": {},
          "execution_count": 25
        }
      ]
    },
    {
      "cell_type": "markdown",
      "source": [
        "# Attempt 2"
      ],
      "metadata": {
        "id": "BRQG8SeioCoX"
      }
    },
    {
      "cell_type": "code",
      "source": [
        "# Loading libraries\n",
        "# This model was understood using https://www.cheminformania.com/master-your-molecule-generator-seq2seq-rnn-models-with-smiles-in-keras/\n",
        "!pip install -U -q PyDrive\n",
        "!pip install rdkit-pypi\n",
        "\n",
        "import keras\n",
        "import math\n",
        "import os\n",
        "import time\n",
        "import random\n",
        "import PIL\n",
        "import glob\n",
        "import imageio\n",
        "import numpy as np\n",
        "import pandas as pd\n",
        "import tensorflow as tf\n",
        "import matplotlib.pyplot as plt\n",
        "from IPython import display\n",
        "from tensorflow.keras import layers\n",
        "from functools import partial\n",
        "from sklearn.model_selection import KFold\n",
        "from keras.datasets import mnist\n",
        "from sklearn.model_selection import train_test_split\n",
        "from pydrive.auth import GoogleAuth\n",
        "from pydrive.drive import GoogleDrive\n",
        "from google.colab import auth\n",
        "from oauth2client.client import GoogleCredentials\n",
        "from rdkit import Chem\n",
        "from rdkit.Chem.Lipinski import NumAromaticRings\n",
        "from rdkit.Chem import Draw, Descriptors\n",
        "from PIL import Image, ImageOps\n",
        "from keras import regularizers\n",
        "from tensorflow.keras.optimizers import Adam\n",
        "%matplotlib inline\n"
      ],
      "metadata": {
        "colab": {
          "base_uri": "https://localhost:8080/"
        },
        "id": "h2HyNdhMoHfx",
        "outputId": "428ca9d5-e0f5-40d0-fa42-c9e308d2183d"
      },
      "execution_count": 26,
      "outputs": [
        {
          "output_type": "stream",
          "name": "stdout",
          "text": [
            "Requirement already satisfied: rdkit-pypi in /usr/local/lib/python3.7/dist-packages (2021.9.4)\n",
            "Requirement already satisfied: numpy>=1.19 in /usr/local/lib/python3.7/dist-packages (from rdkit-pypi) (1.19.5)\n",
            "Requirement already satisfied: Pillow in /usr/local/lib/python3.7/dist-packages (from rdkit-pypi) (7.1.2)\n"
          ]
        }
      ]
    },
    {
      "cell_type": "code",
      "source": [
        "# Loading Dataset\n",
        "\n",
        "auth.authenticate_user()\n",
        "gauth = GoogleAuth()\n",
        "gauth.credentials = GoogleCredentials.get_application_default()\n",
        "drive = GoogleDrive(gauth)"
      ],
      "metadata": {
        "id": "lA_97EUwr4_6"
      },
      "execution_count": 27,
      "outputs": []
    },
    {
      "cell_type": "code",
      "source": [
        "# Here I use a data of ~63k smiles molecules because more aren't required\n",
        "\n",
        "link = 'https://drive.google.com/file/d/1V1uMEXYG4r1qpDPSvzJC0VUmVmF3n__g/view?usp=sharing'\n",
        "id = link.split(\"/\")[-2]\n",
        "  \n",
        "downloaded = drive.CreateFile({'id':id}) \n",
        "downloaded.GetContentFile(\"gdb11_size08.smi\")  \n",
        "\n",
        "smifile = \"gdb11_size08.smi\"\n",
        "df = pd.read_csv(smifile, delimiter = \"\\t\", names = [\"smiles\", \"No\", \"Int\"])\n",
        "df.head()"
      ],
      "metadata": {
        "colab": {
          "base_uri": "https://localhost:8080/",
          "height": 206
        },
        "id": "5d-o4wzsr8Fh",
        "outputId": "d545c61b-55ca-4bf8-ca62-4a7b9ad9a702"
      },
      "execution_count": 28,
      "outputs": [
        {
          "output_type": "execute_result",
          "data": {
            "text/html": [
              "\n",
              "  <div id=\"df-2ca91f22-5c8e-4eb7-b3f2-a4319631f710\">\n",
              "    <div class=\"colab-df-container\">\n",
              "      <div>\n",
              "<style scoped>\n",
              "    .dataframe tbody tr th:only-of-type {\n",
              "        vertical-align: middle;\n",
              "    }\n",
              "\n",
              "    .dataframe tbody tr th {\n",
              "        vertical-align: top;\n",
              "    }\n",
              "\n",
              "    .dataframe thead th {\n",
              "        text-align: right;\n",
              "    }\n",
              "</style>\n",
              "<table border=\"1\" class=\"dataframe\">\n",
              "  <thead>\n",
              "    <tr style=\"text-align: right;\">\n",
              "      <th></th>\n",
              "      <th>smiles</th>\n",
              "      <th>No</th>\n",
              "      <th>Int</th>\n",
              "    </tr>\n",
              "  </thead>\n",
              "  <tbody>\n",
              "    <tr>\n",
              "      <th>0</th>\n",
              "      <td>CC(C)CC(C)(C)C</td>\n",
              "      <td>1</td>\n",
              "      <td>1</td>\n",
              "    </tr>\n",
              "    <tr>\n",
              "      <th>1</th>\n",
              "      <td>CC(N)CC(C)(C)C</td>\n",
              "      <td>2</td>\n",
              "      <td>1</td>\n",
              "    </tr>\n",
              "    <tr>\n",
              "      <th>2</th>\n",
              "      <td>CC(O)CC(C)(C)C</td>\n",
              "      <td>3</td>\n",
              "      <td>1</td>\n",
              "    </tr>\n",
              "    <tr>\n",
              "      <th>3</th>\n",
              "      <td>CC(F)CC(C)(C)C</td>\n",
              "      <td>4</td>\n",
              "      <td>1</td>\n",
              "    </tr>\n",
              "    <tr>\n",
              "      <th>4</th>\n",
              "      <td>CC(C)(C)CC(F)F</td>\n",
              "      <td>5</td>\n",
              "      <td>1</td>\n",
              "    </tr>\n",
              "  </tbody>\n",
              "</table>\n",
              "</div>\n",
              "      <button class=\"colab-df-convert\" onclick=\"convertToInteractive('df-2ca91f22-5c8e-4eb7-b3f2-a4319631f710')\"\n",
              "              title=\"Convert this dataframe to an interactive table.\"\n",
              "              style=\"display:none;\">\n",
              "        \n",
              "  <svg xmlns=\"http://www.w3.org/2000/svg\" height=\"24px\"viewBox=\"0 0 24 24\"\n",
              "       width=\"24px\">\n",
              "    <path d=\"M0 0h24v24H0V0z\" fill=\"none\"/>\n",
              "    <path d=\"M18.56 5.44l.94 2.06.94-2.06 2.06-.94-2.06-.94-.94-2.06-.94 2.06-2.06.94zm-11 1L8.5 8.5l.94-2.06 2.06-.94-2.06-.94L8.5 2.5l-.94 2.06-2.06.94zm10 10l.94 2.06.94-2.06 2.06-.94-2.06-.94-.94-2.06-.94 2.06-2.06.94z\"/><path d=\"M17.41 7.96l-1.37-1.37c-.4-.4-.92-.59-1.43-.59-.52 0-1.04.2-1.43.59L10.3 9.45l-7.72 7.72c-.78.78-.78 2.05 0 2.83L4 21.41c.39.39.9.59 1.41.59.51 0 1.02-.2 1.41-.59l7.78-7.78 2.81-2.81c.8-.78.8-2.07 0-2.86zM5.41 20L4 18.59l7.72-7.72 1.47 1.35L5.41 20z\"/>\n",
              "  </svg>\n",
              "      </button>\n",
              "      \n",
              "  <style>\n",
              "    .colab-df-container {\n",
              "      display:flex;\n",
              "      flex-wrap:wrap;\n",
              "      gap: 12px;\n",
              "    }\n",
              "\n",
              "    .colab-df-convert {\n",
              "      background-color: #E8F0FE;\n",
              "      border: none;\n",
              "      border-radius: 50%;\n",
              "      cursor: pointer;\n",
              "      display: none;\n",
              "      fill: #1967D2;\n",
              "      height: 32px;\n",
              "      padding: 0 0 0 0;\n",
              "      width: 32px;\n",
              "    }\n",
              "\n",
              "    .colab-df-convert:hover {\n",
              "      background-color: #E2EBFA;\n",
              "      box-shadow: 0px 1px 2px rgba(60, 64, 67, 0.3), 0px 1px 3px 1px rgba(60, 64, 67, 0.15);\n",
              "      fill: #174EA6;\n",
              "    }\n",
              "\n",
              "    [theme=dark] .colab-df-convert {\n",
              "      background-color: #3B4455;\n",
              "      fill: #D2E3FC;\n",
              "    }\n",
              "\n",
              "    [theme=dark] .colab-df-convert:hover {\n",
              "      background-color: #434B5C;\n",
              "      box-shadow: 0px 1px 3px 1px rgba(0, 0, 0, 0.15);\n",
              "      filter: drop-shadow(0px 1px 2px rgba(0, 0, 0, 0.3));\n",
              "      fill: #FFFFFF;\n",
              "    }\n",
              "  </style>\n",
              "\n",
              "      <script>\n",
              "        const buttonEl =\n",
              "          document.querySelector('#df-2ca91f22-5c8e-4eb7-b3f2-a4319631f710 button.colab-df-convert');\n",
              "        buttonEl.style.display =\n",
              "          google.colab.kernel.accessAllowed ? 'block' : 'none';\n",
              "\n",
              "        async function convertToInteractive(key) {\n",
              "          const element = document.querySelector('#df-2ca91f22-5c8e-4eb7-b3f2-a4319631f710');\n",
              "          const dataTable =\n",
              "            await google.colab.kernel.invokeFunction('convertToInteractive',\n",
              "                                                     [key], {});\n",
              "          if (!dataTable) return;\n",
              "\n",
              "          const docLinkHtml = 'Like what you see? Visit the ' +\n",
              "            '<a target=\"_blank\" href=https://colab.research.google.com/notebooks/data_table.ipynb>data table notebook</a>'\n",
              "            + ' to learn more about interactive tables.';\n",
              "          element.innerHTML = '';\n",
              "          dataTable['output_type'] = 'display_data';\n",
              "          await google.colab.output.renderOutput(dataTable, element);\n",
              "          const docLink = document.createElement('div');\n",
              "          docLink.innerHTML = docLinkHtml;\n",
              "          element.appendChild(docLink);\n",
              "        }\n",
              "      </script>\n",
              "    </div>\n",
              "  </div>\n",
              "  "
            ],
            "text/plain": [
              "           smiles  No  Int\n",
              "0  CC(C)CC(C)(C)C   1    1\n",
              "1  CC(N)CC(C)(C)C   2    1\n",
              "2  CC(O)CC(C)(C)C   3    1\n",
              "3  CC(F)CC(C)(C)C   4    1\n",
              "4  CC(C)(C)CC(F)F   5    1"
            ]
          },
          "metadata": {},
          "execution_count": 28
        }
      ]
    },
    {
      "cell_type": "code",
      "source": [
        "X_train, X_test = train_test_split(df[\"smiles\"], test_size=0.2, random_state=189)\n",
        "\n",
        "print(X_train.shape)\n",
        "print(X_test.shape)"
      ],
      "metadata": {
        "colab": {
          "base_uri": "https://localhost:8080/"
        },
        "id": "OKrFrZYja9AJ",
        "outputId": "e14c19e1-90ca-4ee5-9faa-4a7bfd2234f0"
      },
      "execution_count": 29,
      "outputs": [
        {
          "output_type": "stream",
          "name": "stdout",
          "text": [
            "(53364,)\n",
            "(13342,)\n"
          ]
        }
      ]
    },
    {
      "cell_type": "code",
      "source": [
        "# Data Preprocessing, this converts each molecule into a vector using a 1-1 dictionary\n",
        "# We add 8 digits because our discovered drugs might have a size > 22 characters\n",
        "\n",
        "charset = set(\"\".join(list(df.smiles))+\"!E\")\n",
        "char_to_int = dict((c,i) for i,c in enumerate(charset))\n",
        "int_to_char = dict((i,c) for i,c in enumerate(charset))\n",
        "embed = max([len(smile) for smile in df.smiles]) + 8\n",
        "print(str(charset))\n",
        "print(len(charset), embed)"
      ],
      "metadata": {
        "colab": {
          "base_uri": "https://localhost:8080/"
        },
        "id": "mxOyjaFZspBo",
        "outputId": "ab43c5a7-39dc-4c12-e435-cb092b15a562"
      },
      "execution_count": 30,
      "outputs": [
        {
          "output_type": "stream",
          "name": "stdout",
          "text": [
            "{'=', ']', '+', 'o', '!', '3', '#', 'E', 'N', 'c', 'n', 'O', '4', '[', 'H', 'C', ')', '2', 'F', '-', '(', '1'}\n",
            "22 31\n"
          ]
        }
      ]
    },
    {
      "cell_type": "code",
      "source": [
        "int_to_char"
      ],
      "metadata": {
        "id": "dwBX5S1s-dte",
        "colab": {
          "base_uri": "https://localhost:8080/"
        },
        "outputId": "cf2c1a48-8742-4105-eba3-41e35b140304"
      },
      "execution_count": 31,
      "outputs": [
        {
          "output_type": "execute_result",
          "data": {
            "text/plain": [
              "{0: '=',\n",
              " 1: ']',\n",
              " 2: '+',\n",
              " 3: 'o',\n",
              " 4: '!',\n",
              " 5: '3',\n",
              " 6: '#',\n",
              " 7: 'E',\n",
              " 8: 'N',\n",
              " 9: 'c',\n",
              " 10: 'n',\n",
              " 11: 'O',\n",
              " 12: '4',\n",
              " 13: '[',\n",
              " 14: 'H',\n",
              " 15: 'C',\n",
              " 16: ')',\n",
              " 17: '2',\n",
              " 18: 'F',\n",
              " 19: '-',\n",
              " 20: '(',\n",
              " 21: '1'}"
            ]
          },
          "metadata": {},
          "execution_count": 31
        }
      ]
    },
    {
      "cell_type": "code",
      "source": [
        "# This represents each molecule as a matrix 30x22\n",
        "# The X data starts with !, but the output Y is offset by one character, and starts with the first character of the actual SMILES.\n",
        "\n",
        "def preprocess(smiles):\n",
        "        one_hot =  np.zeros((smiles.shape[0], embed, len(charset)), dtype=np.int8)\n",
        "        for i, smile in enumerate(smiles):\n",
        "            one_hot[i,0,char_to_int[\"!\"]] = 1\n",
        "            for j,c in enumerate(smile):\n",
        "                one_hot[i,j+1,char_to_int[c]] = 1\n",
        "            one_hot[i,len(smile)+1:, char_to_int[\"E\"]] = 1\n",
        "        return one_hot[:,0:-1,:], one_hot[:,1:,:]\n",
        "        \n",
        "X_train, Y_train = preprocess(X_train.values)\n",
        "X_test, Y_test = preprocess(X_test.values)"
      ],
      "metadata": {
        "id": "u06QXs6jwRJu"
      },
      "execution_count": 32,
      "outputs": []
    },
    {
      "cell_type": "code",
      "source": [
        "X_train[1].shape"
      ],
      "metadata": {
        "colab": {
          "base_uri": "https://localhost:8080/"
        },
        "id": "AQNpdLLu-hYn",
        "outputId": "5ad262c8-b946-4331-ceda-c3a636e99034"
      },
      "execution_count": 33,
      "outputs": [
        {
          "output_type": "execute_result",
          "data": {
            "text/plain": [
              "(30, 22)"
            ]
          },
          "metadata": {},
          "execution_count": 33
        }
      ]
    },
    {
      "cell_type": "markdown",
      "source": [
        "## Training"
      ],
      "metadata": {
        "id": "Z3Ld-ElEc5hj"
      }
    },
    {
      "cell_type": "code",
      "source": [
        "input_shape = X_train.shape[1:]         # 30, 22 (smiles molecule)\n",
        "output_dim = Y_train.shape[-1]          # 22 (smiles molecule)\n",
        "latent_dim = 64\n",
        "lstm_dim = 64"
      ],
      "metadata": {
        "id": "Ya_NCmtwzsSK"
      },
      "execution_count": 34,
      "outputs": []
    },
    {
      "cell_type": "code",
      "source": [
        "# Encoder Model\n",
        "# Here we use LSTMs because in a molecule, we need to know what came before an atom in order to get what comes after\n",
        "\n",
        "encoder_inputs = layers.Input(shape=input_shape)\n",
        "encoder = layers.LSTM(lstm_dim, return_state=True, unroll=False)\n",
        "encoder_outputs, state_h, state_c = encoder(encoder_inputs)\n",
        "states = layers.Concatenate(axis=-1)([state_h, state_c])\n",
        "neck = layers.Dense(latent_dim, activation=\"relu\")  # latent space\n",
        "neck_outputs = neck(states)"
      ],
      "metadata": {
        "id": "V93WHvTszvqj"
      },
      "execution_count": 35,
      "outputs": []
    },
    {
      "cell_type": "code",
      "source": [
        "# Here h and c represent the hidden and cell states respectively\n",
        "\n",
        "decode_h = layers.Dense(lstm_dim, activation=\"relu\")\n",
        "decode_c = layers.Dense(lstm_dim, activation=\"relu\")\n",
        "state_h_decoded =  decode_h(neck_outputs)\n",
        "state_c_decoded =  decode_c(neck_outputs)\n",
        "encoder_states = [state_h_decoded, state_c_decoded]\n",
        "decoder_inputs = layers.Input(shape=input_shape)\n",
        "decoder_lstm = layers.LSTM(lstm_dim, return_sequences=True, unroll=False)\n",
        "decoder_outputs = decoder_lstm(decoder_inputs, initial_state=encoder_states)\n",
        "decoder_dense = layers.Dense(output_dim, activation='softmax')\n",
        "decoder_outputs = decoder_dense(decoder_outputs)\n",
        "model = tf.keras.Model([encoder_inputs, decoder_inputs], decoder_outputs)"
      ],
      "metadata": {
        "id": "BFI-qu4ozzXD"
      },
      "execution_count": 36,
      "outputs": []
    },
    {
      "cell_type": "code",
      "source": [
        "model.compile(optimizer = Adam(0.005), loss='categorical_crossentropy')"
      ],
      "metadata": {
        "id": "HxWJG9qXz6lO"
      },
      "execution_count": 37,
      "outputs": []
    },
    {
      "cell_type": "code",
      "source": [
        "model.fit([X_train, X_train], Y_train, epochs=150, batch_size=256, shuffle=True, validation_data=[[X_test, X_test], Y_test])"
      ],
      "metadata": {
        "colab": {
          "base_uri": "https://localhost:8080/"
        },
        "id": "6NuTh61q0mMZ",
        "outputId": "33668137-ad6e-4a7a-ed38-293f71aa9bcd"
      },
      "execution_count": 38,
      "outputs": [
        {
          "output_type": "stream",
          "name": "stdout",
          "text": [
            "Epoch 1/150\n",
            "209/209 [==============================] - 11s 30ms/step - loss: 0.8136 - val_loss: 0.5819\n",
            "Epoch 2/150\n",
            "209/209 [==============================] - 5s 25ms/step - loss: 0.5413 - val_loss: 0.5091\n",
            "Epoch 3/150\n",
            "209/209 [==============================] - 5s 25ms/step - loss: 0.4950 - val_loss: 0.4814\n",
            "Epoch 4/150\n",
            "209/209 [==============================] - 5s 25ms/step - loss: 0.4951 - val_loss: 0.4681\n",
            "Epoch 5/150\n",
            "209/209 [==============================] - 5s 25ms/step - loss: 0.4563 - val_loss: 0.4498\n",
            "Epoch 6/150\n",
            "209/209 [==============================] - 5s 25ms/step - loss: 0.4309 - val_loss: 0.4172\n",
            "Epoch 7/150\n",
            "209/209 [==============================] - 5s 25ms/step - loss: 0.4070 - val_loss: 0.3946\n",
            "Epoch 8/150\n",
            "209/209 [==============================] - 5s 24ms/step - loss: 0.3828 - val_loss: 0.3709\n",
            "Epoch 9/150\n",
            "209/209 [==============================] - 5s 24ms/step - loss: 0.3679 - val_loss: 0.3657\n",
            "Epoch 10/150\n",
            "209/209 [==============================] - 5s 24ms/step - loss: 0.3445 - val_loss: 0.3312\n",
            "Epoch 11/150\n",
            "209/209 [==============================] - 5s 24ms/step - loss: 0.3155 - val_loss: 0.2952\n",
            "Epoch 12/150\n",
            "209/209 [==============================] - 5s 24ms/step - loss: 0.2798 - val_loss: 0.2633\n",
            "Epoch 13/150\n",
            "209/209 [==============================] - 5s 24ms/step - loss: 0.2618 - val_loss: 0.2783\n",
            "Epoch 14/150\n",
            "209/209 [==============================] - 5s 24ms/step - loss: 0.2473 - val_loss: 0.2343\n",
            "Epoch 15/150\n",
            "209/209 [==============================] - 5s 24ms/step - loss: 0.2109 - val_loss: 0.1927\n",
            "Epoch 16/150\n",
            "209/209 [==============================] - 5s 24ms/step - loss: 0.1997 - val_loss: 0.2074\n",
            "Epoch 17/150\n",
            "209/209 [==============================] - 5s 24ms/step - loss: 0.1852 - val_loss: 0.3112\n",
            "Epoch 18/150\n",
            "209/209 [==============================] - 5s 24ms/step - loss: 0.1726 - val_loss: 0.1586\n",
            "Epoch 19/150\n",
            "209/209 [==============================] - 5s 24ms/step - loss: 0.1518 - val_loss: 0.1351\n",
            "Epoch 20/150\n",
            "209/209 [==============================] - 5s 24ms/step - loss: 0.1535 - val_loss: 0.1408\n",
            "Epoch 21/150\n",
            "209/209 [==============================] - 5s 24ms/step - loss: 0.1333 - val_loss: 0.1193\n",
            "Epoch 22/150\n",
            "209/209 [==============================] - 5s 24ms/step - loss: 0.1214 - val_loss: 0.1014\n",
            "Epoch 23/150\n",
            "209/209 [==============================] - 5s 25ms/step - loss: 0.1135 - val_loss: 0.0943\n",
            "Epoch 24/150\n",
            "209/209 [==============================] - 5s 24ms/step - loss: 0.1022 - val_loss: 0.0964\n",
            "Epoch 25/150\n",
            "209/209 [==============================] - 5s 24ms/step - loss: 0.0895 - val_loss: 0.0856\n",
            "Epoch 26/150\n",
            "209/209 [==============================] - 5s 24ms/step - loss: 0.1004 - val_loss: 0.0806\n",
            "Epoch 27/150\n",
            "209/209 [==============================] - 5s 24ms/step - loss: 0.0752 - val_loss: 0.0902\n",
            "Epoch 28/150\n",
            "209/209 [==============================] - 5s 24ms/step - loss: 0.0724 - val_loss: 0.0618\n",
            "Epoch 29/150\n",
            "209/209 [==============================] - 5s 25ms/step - loss: 0.1079 - val_loss: 0.1388\n",
            "Epoch 30/150\n",
            "209/209 [==============================] - 5s 24ms/step - loss: 0.0650 - val_loss: 0.0583\n",
            "Epoch 31/150\n",
            "209/209 [==============================] - 5s 24ms/step - loss: 0.0586 - val_loss: 0.0439\n",
            "Epoch 32/150\n",
            "209/209 [==============================] - 5s 25ms/step - loss: 0.0629 - val_loss: 0.0616\n",
            "Epoch 33/150\n",
            "209/209 [==============================] - 5s 24ms/step - loss: 0.0777 - val_loss: 0.0630\n",
            "Epoch 34/150\n",
            "209/209 [==============================] - 5s 24ms/step - loss: 0.0467 - val_loss: 0.0893\n",
            "Epoch 35/150\n",
            "209/209 [==============================] - 5s 24ms/step - loss: 0.0514 - val_loss: 0.0396\n",
            "Epoch 36/150\n",
            "209/209 [==============================] - 5s 24ms/step - loss: 0.0397 - val_loss: 0.0345\n",
            "Epoch 37/150\n",
            "209/209 [==============================] - 5s 24ms/step - loss: 0.0575 - val_loss: 0.0876\n",
            "Epoch 38/150\n",
            "209/209 [==============================] - 5s 24ms/step - loss: 0.0386 - val_loss: 0.0290\n",
            "Epoch 39/150\n",
            "209/209 [==============================] - 5s 24ms/step - loss: 0.0621 - val_loss: 0.0301\n",
            "Epoch 40/150\n",
            "209/209 [==============================] - 5s 24ms/step - loss: 0.0713 - val_loss: 0.0346\n",
            "Epoch 41/150\n",
            "209/209 [==============================] - 5s 24ms/step - loss: 0.0307 - val_loss: 0.0334\n",
            "Epoch 42/150\n",
            "209/209 [==============================] - 5s 24ms/step - loss: 0.0290 - val_loss: 0.0305\n",
            "Epoch 43/150\n",
            "209/209 [==============================] - 5s 24ms/step - loss: 0.1054 - val_loss: 0.0450\n",
            "Epoch 44/150\n",
            "209/209 [==============================] - 5s 24ms/step - loss: 0.0335 - val_loss: 0.0254\n",
            "Epoch 45/150\n",
            "209/209 [==============================] - 5s 25ms/step - loss: 0.0247 - val_loss: 0.0263\n",
            "Epoch 46/150\n",
            "209/209 [==============================] - 5s 24ms/step - loss: 0.0285 - val_loss: 0.0994\n",
            "Epoch 47/150\n",
            "209/209 [==============================] - 5s 24ms/step - loss: 0.0258 - val_loss: 0.0189\n",
            "Epoch 48/150\n",
            "209/209 [==============================] - 5s 24ms/step - loss: 0.0284 - val_loss: 0.0166\n",
            "Epoch 49/150\n",
            "209/209 [==============================] - 5s 24ms/step - loss: 0.0443 - val_loss: 0.2998\n",
            "Epoch 50/150\n",
            "209/209 [==============================] - 5s 24ms/step - loss: 0.0515 - val_loss: 0.0237\n",
            "Epoch 51/150\n",
            "209/209 [==============================] - 5s 24ms/step - loss: 0.0338 - val_loss: 0.0430\n",
            "Epoch 52/150\n",
            "209/209 [==============================] - 5s 24ms/step - loss: 0.0194 - val_loss: 0.0190\n",
            "Epoch 53/150\n",
            "209/209 [==============================] - 5s 24ms/step - loss: 0.0132 - val_loss: 0.0123\n",
            "Epoch 54/150\n",
            "209/209 [==============================] - 5s 24ms/step - loss: 0.0134 - val_loss: 0.0208\n",
            "Epoch 55/150\n",
            "209/209 [==============================] - 5s 24ms/step - loss: 0.0215 - val_loss: 0.0131\n",
            "Epoch 56/150\n",
            "209/209 [==============================] - 5s 24ms/step - loss: 0.0115 - val_loss: 0.0161\n",
            "Epoch 57/150\n",
            "209/209 [==============================] - 5s 25ms/step - loss: 0.0613 - val_loss: 0.0330\n",
            "Epoch 58/150\n",
            "209/209 [==============================] - 5s 25ms/step - loss: 0.0161 - val_loss: 0.0118\n",
            "Epoch 59/150\n",
            "209/209 [==============================] - 5s 25ms/step - loss: 0.0097 - val_loss: 0.0115\n",
            "Epoch 60/150\n",
            "209/209 [==============================] - 5s 25ms/step - loss: 0.0083 - val_loss: 0.0094\n",
            "Epoch 61/150\n",
            "209/209 [==============================] - 5s 25ms/step - loss: 0.1309 - val_loss: 0.0384\n",
            "Epoch 62/150\n",
            "209/209 [==============================] - 5s 25ms/step - loss: 0.0272 - val_loss: 0.0220\n",
            "Epoch 63/150\n",
            "209/209 [==============================] - 5s 24ms/step - loss: 0.0171 - val_loss: 0.0165\n",
            "Epoch 64/150\n",
            "209/209 [==============================] - 5s 25ms/step - loss: 0.0143 - val_loss: 0.0106\n",
            "Epoch 65/150\n",
            "209/209 [==============================] - 5s 25ms/step - loss: 0.0261 - val_loss: 0.0112\n",
            "Epoch 66/150\n",
            "209/209 [==============================] - 5s 25ms/step - loss: 0.0084 - val_loss: 0.0092\n",
            "Epoch 67/150\n",
            "209/209 [==============================] - 5s 25ms/step - loss: 0.0066 - val_loss: 0.0097\n",
            "Epoch 68/150\n",
            "209/209 [==============================] - 5s 25ms/step - loss: 0.0445 - val_loss: 0.0090\n",
            "Epoch 69/150\n",
            "209/209 [==============================] - 5s 25ms/step - loss: 0.0067 - val_loss: 0.0069\n",
            "Epoch 70/150\n",
            "209/209 [==============================] - 5s 25ms/step - loss: 0.0049 - val_loss: 0.0053\n",
            "Epoch 71/150\n",
            "209/209 [==============================] - 5s 25ms/step - loss: 0.0050 - val_loss: 0.0050\n",
            "Epoch 72/150\n",
            "209/209 [==============================] - 5s 25ms/step - loss: 0.0770 - val_loss: 0.0443\n",
            "Epoch 73/150\n",
            "209/209 [==============================] - 5s 25ms/step - loss: 0.0222 - val_loss: 0.0149\n",
            "Epoch 74/150\n",
            "209/209 [==============================] - 5s 25ms/step - loss: 0.0115 - val_loss: 0.0092\n",
            "Epoch 75/150\n",
            "209/209 [==============================] - 5s 25ms/step - loss: 0.0080 - val_loss: 0.0067\n",
            "Epoch 76/150\n",
            "209/209 [==============================] - 5s 25ms/step - loss: 0.0357 - val_loss: 0.0091\n",
            "Epoch 77/150\n",
            "209/209 [==============================] - 5s 25ms/step - loss: 0.0062 - val_loss: 0.0057\n",
            "Epoch 78/150\n",
            "209/209 [==============================] - 5s 25ms/step - loss: 0.0047 - val_loss: 0.0045\n",
            "Epoch 79/150\n",
            "209/209 [==============================] - 5s 25ms/step - loss: 0.0047 - val_loss: 0.0046\n",
            "Epoch 80/150\n",
            "209/209 [==============================] - 5s 25ms/step - loss: 0.0035 - val_loss: 0.0042\n",
            "Epoch 81/150\n",
            "209/209 [==============================] - 5s 25ms/step - loss: 0.0680 - val_loss: 0.1837\n",
            "Epoch 82/150\n",
            "209/209 [==============================] - 5s 25ms/step - loss: 0.0310 - val_loss: 0.0122\n",
            "Epoch 83/150\n",
            "209/209 [==============================] - 5s 25ms/step - loss: 0.0079 - val_loss: 0.0069\n",
            "Epoch 84/150\n",
            "209/209 [==============================] - 5s 25ms/step - loss: 0.0050 - val_loss: 0.0053\n",
            "Epoch 85/150\n",
            "209/209 [==============================] - 5s 25ms/step - loss: 0.0038 - val_loss: 0.0047\n",
            "Epoch 86/150\n",
            "209/209 [==============================] - 5s 25ms/step - loss: 0.0033 - val_loss: 0.0056\n",
            "Epoch 87/150\n",
            "209/209 [==============================] - 5s 25ms/step - loss: 0.0594 - val_loss: 0.0400\n",
            "Epoch 88/150\n",
            "209/209 [==============================] - 5s 25ms/step - loss: 0.0128 - val_loss: 0.0067\n",
            "Epoch 89/150\n",
            "209/209 [==============================] - 5s 25ms/step - loss: 0.0048 - val_loss: 0.0047\n",
            "Epoch 90/150\n",
            "209/209 [==============================] - 5s 25ms/step - loss: 0.0033 - val_loss: 0.0037\n",
            "Epoch 91/150\n",
            "209/209 [==============================] - 5s 26ms/step - loss: 0.0027 - val_loss: 0.0033\n",
            "Epoch 92/150\n",
            "209/209 [==============================] - 5s 25ms/step - loss: 0.0023 - val_loss: 0.0031\n",
            "Epoch 93/150\n",
            "209/209 [==============================] - 5s 25ms/step - loss: 0.0297 - val_loss: 0.0256\n",
            "Epoch 94/150\n",
            "209/209 [==============================] - 5s 25ms/step - loss: 0.0076 - val_loss: 0.0052\n",
            "Epoch 95/150\n",
            "209/209 [==============================] - 5s 25ms/step - loss: 0.0032 - val_loss: 0.0032\n",
            "Epoch 96/150\n",
            "209/209 [==============================] - 5s 25ms/step - loss: 0.0022 - val_loss: 0.0032\n",
            "Epoch 97/150\n",
            "209/209 [==============================] - 5s 25ms/step - loss: 0.0019 - val_loss: 0.0027\n",
            "Epoch 98/150\n",
            "209/209 [==============================] - 5s 25ms/step - loss: 0.0020 - val_loss: 0.0030\n",
            "Epoch 99/150\n",
            "209/209 [==============================] - 5s 25ms/step - loss: 0.0023 - val_loss: 0.0022\n",
            "Epoch 100/150\n",
            "209/209 [==============================] - 5s 25ms/step - loss: 0.0775 - val_loss: 0.0679\n",
            "Epoch 101/150\n",
            "209/209 [==============================] - 5s 25ms/step - loss: 0.0171 - val_loss: 0.0073\n",
            "Epoch 102/150\n",
            "209/209 [==============================] - 5s 25ms/step - loss: 0.0047 - val_loss: 0.0047\n",
            "Epoch 103/150\n",
            "209/209 [==============================] - 5s 25ms/step - loss: 0.0028 - val_loss: 0.0033\n",
            "Epoch 104/150\n",
            "209/209 [==============================] - 5s 25ms/step - loss: 0.0022 - val_loss: 0.0027\n",
            "Epoch 105/150\n",
            "209/209 [==============================] - 5s 25ms/step - loss: 0.0018 - val_loss: 0.0033\n",
            "Epoch 106/150\n",
            "209/209 [==============================] - 5s 25ms/step - loss: 0.1006 - val_loss: 0.0093\n",
            "Epoch 107/150\n",
            "209/209 [==============================] - 5s 25ms/step - loss: 0.0059 - val_loss: 0.0046\n",
            "Epoch 108/150\n",
            "209/209 [==============================] - 5s 25ms/step - loss: 0.0033 - val_loss: 0.0032\n",
            "Epoch 109/150\n",
            "209/209 [==============================] - 5s 25ms/step - loss: 0.0023 - val_loss: 0.0030\n",
            "Epoch 110/150\n",
            "209/209 [==============================] - 5s 25ms/step - loss: 0.0019 - val_loss: 0.0024\n",
            "Epoch 111/150\n",
            "209/209 [==============================] - 5s 25ms/step - loss: 0.0016 - val_loss: 0.0019\n",
            "Epoch 112/150\n",
            "209/209 [==============================] - 5s 25ms/step - loss: 0.0014 - val_loss: 0.0025\n",
            "Epoch 113/150\n",
            "209/209 [==============================] - 5s 25ms/step - loss: 0.0805 - val_loss: 0.0092\n",
            "Epoch 114/150\n",
            "209/209 [==============================] - 5s 25ms/step - loss: 0.0054 - val_loss: 0.0045\n",
            "Epoch 115/150\n",
            "209/209 [==============================] - 5s 25ms/step - loss: 0.0030 - val_loss: 0.0030\n",
            "Epoch 116/150\n",
            "209/209 [==============================] - 5s 25ms/step - loss: 0.0021 - val_loss: 0.0025\n",
            "Epoch 117/150\n",
            "209/209 [==============================] - 5s 25ms/step - loss: 0.0017 - val_loss: 0.0020\n",
            "Epoch 118/150\n",
            "209/209 [==============================] - 5s 25ms/step - loss: 0.0014 - val_loss: 0.0023\n",
            "Epoch 119/150\n",
            "209/209 [==============================] - 5s 25ms/step - loss: 0.0017 - val_loss: 0.0036\n",
            "Epoch 120/150\n",
            "209/209 [==============================] - 5s 25ms/step - loss: 0.0016 - val_loss: 0.0016\n",
            "Epoch 121/150\n",
            "209/209 [==============================] - 5s 25ms/step - loss: 0.0583 - val_loss: 0.0380\n",
            "Epoch 122/150\n",
            "209/209 [==============================] - 5s 25ms/step - loss: 0.0116 - val_loss: 0.0060\n",
            "Epoch 123/150\n",
            "209/209 [==============================] - 5s 25ms/step - loss: 0.0040 - val_loss: 0.0041\n",
            "Epoch 124/150\n",
            "209/209 [==============================] - 5s 25ms/step - loss: 0.0026 - val_loss: 0.0026\n",
            "Epoch 125/150\n",
            "209/209 [==============================] - 5s 25ms/step - loss: 0.0018 - val_loss: 0.0023\n",
            "Epoch 126/150\n",
            "209/209 [==============================] - 5s 25ms/step - loss: 0.0283 - val_loss: 0.0091\n",
            "Epoch 127/150\n",
            "209/209 [==============================] - 5s 25ms/step - loss: 0.0038 - val_loss: 0.0029\n",
            "Epoch 128/150\n",
            "209/209 [==============================] - 5s 25ms/step - loss: 0.0018 - val_loss: 0.0023\n",
            "Epoch 129/150\n",
            "209/209 [==============================] - 5s 25ms/step - loss: 0.0013 - val_loss: 0.0017\n",
            "Epoch 130/150\n",
            "209/209 [==============================] - 5s 25ms/step - loss: 0.0010 - val_loss: 0.0016\n",
            "Epoch 131/150\n",
            "209/209 [==============================] - 5s 25ms/step - loss: 9.0930e-04 - val_loss: 0.0015\n",
            "Epoch 132/150\n",
            "209/209 [==============================] - 5s 25ms/step - loss: 8.0152e-04 - val_loss: 0.0013\n",
            "Epoch 133/150\n",
            "209/209 [==============================] - 5s 25ms/step - loss: 6.9145e-04 - val_loss: 0.0013\n",
            "Epoch 134/150\n",
            "209/209 [==============================] - 5s 25ms/step - loss: 0.0046 - val_loss: 0.0381\n",
            "Epoch 135/150\n",
            "209/209 [==============================] - 5s 25ms/step - loss: 0.0075 - val_loss: 0.0019\n",
            "Epoch 136/150\n",
            "209/209 [==============================] - 5s 25ms/step - loss: 8.7560e-04 - val_loss: 0.0012\n",
            "Epoch 137/150\n",
            "209/209 [==============================] - 5s 25ms/step - loss: 5.9898e-04 - val_loss: 0.0011\n",
            "Epoch 138/150\n",
            "209/209 [==============================] - 5s 25ms/step - loss: 4.7044e-04 - val_loss: 8.8220e-04\n",
            "Epoch 139/150\n",
            "209/209 [==============================] - 5s 25ms/step - loss: 4.0443e-04 - val_loss: 8.1351e-04\n",
            "Epoch 140/150\n",
            "209/209 [==============================] - 5s 25ms/step - loss: 3.8390e-04 - val_loss: 0.0087\n",
            "Epoch 141/150\n",
            "209/209 [==============================] - 5s 25ms/step - loss: 0.0925 - val_loss: 0.0069\n",
            "Epoch 142/150\n",
            "209/209 [==============================] - 5s 25ms/step - loss: 0.0041 - val_loss: 0.0034\n",
            "Epoch 143/150\n",
            "209/209 [==============================] - 5s 25ms/step - loss: 0.0022 - val_loss: 0.0024\n",
            "Epoch 144/150\n",
            "209/209 [==============================] - 5s 25ms/step - loss: 0.0014 - val_loss: 0.0018\n",
            "Epoch 145/150\n",
            "209/209 [==============================] - 5s 25ms/step - loss: 0.0011 - val_loss: 0.0016\n",
            "Epoch 146/150\n",
            "209/209 [==============================] - 5s 25ms/step - loss: 9.1764e-04 - val_loss: 0.0016\n",
            "Epoch 147/150\n",
            "209/209 [==============================] - 5s 25ms/step - loss: 0.0013 - val_loss: 0.0013\n",
            "Epoch 148/150\n",
            "209/209 [==============================] - 5s 25ms/step - loss: 6.8785e-04 - val_loss: 0.0015\n",
            "Epoch 149/150\n",
            "209/209 [==============================] - 5s 25ms/step - loss: 0.0483 - val_loss: 0.0047\n",
            "Epoch 150/150\n",
            "209/209 [==============================] - 5s 25ms/step - loss: 0.0027 - val_loss: 0.0027\n"
          ]
        },
        {
          "output_type": "execute_result",
          "data": {
            "text/plain": [
              "<keras.callbacks.History at 0x7fa3e6a7c810>"
            ]
          },
          "metadata": {},
          "execution_count": 38
        }
      ]
    },
    {
      "cell_type": "code",
      "source": [
        "# Creating Model\n",
        "\n",
        "smiles_to_latent = tf.keras.Model(encoder_inputs, neck_outputs)\n",
        "smiles_to_latent.save(\"ZinGAN.h5\")"
      ],
      "metadata": {
        "id": "6jNKFvAt0GKb",
        "colab": {
          "base_uri": "https://localhost:8080/"
        },
        "outputId": "572f9316-5fa8-441e-a323-0cb11918feca"
      },
      "execution_count": 40,
      "outputs": [
        {
          "output_type": "stream",
          "name": "stdout",
          "text": [
            "WARNING:tensorflow:Compiled the loaded model, but the compiled metrics have yet to be built. `model.compile_metrics` will be empty until you train or evaluate the model.\n"
          ]
        }
      ]
    },
    {
      "cell_type": "code",
      "source": [
        "# Decoder Model\n",
        "\n",
        "latent_input = layers.Input(shape=(latent_dim,))\n",
        "state_h_decoded_2 = decode_h(latent_input)\n",
        "state_c_decoded_2 = decode_c(latent_input)\n",
        "latent_to_states = tf.keras.Model(latent_input, [state_h_decoded_2, state_c_decoded_2])\n",
        "latent_to_states.save(\"ZinGAN2.h5\")"
      ],
      "metadata": {
        "colab": {
          "base_uri": "https://localhost:8080/"
        },
        "id": "oNSkDSTu0Pho",
        "outputId": "dacf3666-5a7d-4199-d52e-61d9b80dbc7d"
      },
      "execution_count": 43,
      "outputs": [
        {
          "output_type": "stream",
          "name": "stdout",
          "text": [
            "WARNING:tensorflow:Compiled the loaded model, but the compiled metrics have yet to be built. `model.compile_metrics` will be empty until you train or evaluate the model.\n"
          ]
        }
      ]
    },
    {
      "cell_type": "code",
      "source": [
        "#  Random Sampling Model used to create Smiles from Latent Space\n",
        "\n",
        "inf_decoder_inputs = layers.Input(batch_shape=(1, 1, input_shape[1]))\n",
        "inf_decoder_lstm = layers.LSTM(lstm_dim, return_sequences=True, unroll=False, stateful=True)\n",
        "inf_decoder_outputs = inf_decoder_lstm(inf_decoder_inputs)\n",
        "inf_decoder_dense = layers.Dense(output_dim, activation='softmax')\n",
        "inf_decoder_outputs = inf_decoder_dense(inf_decoder_outputs)\n",
        "sample_model = tf.keras.Model(inf_decoder_inputs, inf_decoder_outputs)"
      ],
      "metadata": {
        "id": "6CnbMhrc0R2G"
      },
      "execution_count": 44,
      "outputs": []
    },
    {
      "cell_type": "code",
      "source": [
        "#Transferring the Weights from Encoder\n",
        "\n",
        "for i in range(1,3):\n",
        "    sample_model.layers[i].set_weights(model.layers[i+6].get_weights())\n",
        "sample_model.save(\"ZinGAN3.h5\")"
      ],
      "metadata": {
        "colab": {
          "base_uri": "https://localhost:8080/"
        },
        "id": "MVqQ_lAK0ZZ1",
        "outputId": "4266e492-2c2d-40b8-88fb-18452494f74e"
      },
      "execution_count": 45,
      "outputs": [
        {
          "output_type": "stream",
          "name": "stdout",
          "text": [
            "WARNING:tensorflow:Compiled the loaded model, but the compiled metrics have yet to be built. `model.compile_metrics` will be empty until you train or evaluate the model.\n"
          ]
        }
      ]
    },
    {
      "cell_type": "code",
      "source": [
        "x_latent = smiles_to_latent.predict(X_test)"
      ],
      "metadata": {
        "id": "kztEvXdP0qlY"
      },
      "execution_count": 46,
      "outputs": []
    },
    {
      "cell_type": "code",
      "source": [
        "# Function to Generate molecule \n",
        "\n",
        "def create_smiles(latent):\n",
        "    states = latent_to_states.predict(latent)\n",
        "    sample_model.layers[1].reset_states(states=[states[0], states[1]])\n",
        "    startidx = char_to_int[\"!\"]\n",
        "    samplevec = np.zeros((1,1,22))\n",
        "    samplevec[0, 0, startidx] = 1\n",
        "    smiles = \"\"\n",
        "    for i in range(31):\n",
        "        o = sample_model.predict(samplevec)\n",
        "        sampleidx = np.argmax(o)\n",
        "        samplechar = int_to_char[sampleidx]\n",
        "        if samplechar != \"E\":\n",
        "            smiles = smiles + int_to_char[sampleidx]\n",
        "            samplevec = np.zeros((1,1,22))\n",
        "            samplevec[0,0,sampleidx] = 1\n",
        "        else:\n",
        "            break\n",
        "    return smiles"
      ],
      "metadata": {
        "id": "8mXWrr7Z0qb_"
      },
      "execution_count": 47,
      "outputs": []
    },
    {
      "cell_type": "code",
      "source": [
        "smiles = create_smiles(x_latent[0:1])"
      ],
      "metadata": {
        "id": "afODo-_h0qZI"
      },
      "execution_count": 48,
      "outputs": []
    },
    {
      "cell_type": "code",
      "source": [
        "# Creates molecules from random latent space.\n",
        "\n",
        "latent = x_latent[0:1]\n",
        "print(\"\\n Smiles Representation \\n\")\n",
        "mols = []\n",
        "while len(mols)<30:\n",
        "    scale = random.random()\n",
        "    latent_r = latent + scale*(np.random.randn(latent.shape[1])) #Creates random latent space\n",
        "    smiles = create_smiles(latent_r)\n",
        "    mol = Chem.MolFromSmiles(smiles)\n",
        "    if mol and (smiles not in df.smiles):         # Only appends and prints if it is a molecule AND is not in training data\n",
        "        mols.append(mol)\n",
        "        print(smiles)\n",
        "\n",
        "print(\"\\n Pictorial Representation \\n\")\n",
        "Draw.MolsToGridImage(mols, molsPerRow=6)"
      ],
      "metadata": {
        "colab": {
          "base_uri": "https://localhost:8080/",
          "height": 1000
        },
        "id": "a7xNKqkr3rbu",
        "outputId": "21c61a29-9ca9-472c-b1da-4a28dc08dd65"
      },
      "execution_count": 53,
      "outputs": [
        {
          "output_type": "stream",
          "name": "stdout",
          "text": [
            "\n",
            " Smiles Representation \n",
            "\n",
            "COc1ncnnc1F\n",
            "COC(F)C1COC1\n",
            "COC(C#C)C1CO1\n",
            "C=NN=CC1CCC1\n",
            "CON=CCC1CO1\n",
            "CON=CCC1CC1\n",
            "COC1(CO)CCC1\n",
            "OCC(O)CC#CC\n",
            "CON=CCC1CC1\n",
            "CON=CCC=CF\n",
            "CON=C1CC=CO1\n",
            "COC1=CCCC1(C)\n",
            "COc1n[nH]nnn1F\n",
            "CON=CCCC=C\n",
            "CON=CCC1CC1\n",
            "CON=CCC1CC1\n",
            "CON=CCC1CC1\n",
            "CON=CCC1CC1\n",
            "N=COC(CF)C=C\n",
            "CON=CCC1CC1\n",
            "CON=CCC1CC1\n",
            "CON=CCC1CC1\n",
            "CN1OC=CC1CC\n",
            "CON(CF)C1CC1\n",
            "CON=CCC1CC1\n",
            "CON=CCC1CC1\n",
            "CN=c1nnon1C\n",
            "CON=CCCC=C\n",
            "CON=CCC1CC1\n",
            "CON=CC1CCC1\n",
            "\n",
            " Pictorial Representation \n",
            "\n"
          ]
        },
        {
          "output_type": "execute_result",
          "data": {
            "image/png": "[encoded data removed]",
            "text/plain": [
              "<PIL.PngImagePlugin.PngImageFile image mode=RGB size=1200x1000 at 0x7FA3D35BE6D0>"
            ]
          },
          "metadata": {},
          "execution_count": 53
        }
      ]
    }
  ]
}